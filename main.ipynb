{
 "cells": [
  {
   "cell_type": "markdown",
   "metadata": {},
   "source": [
    "##### Importando as bibliotecas"
   ]
  },
  {
   "cell_type": "code",
   "execution_count": null,
   "metadata": {
    "application/vnd.databricks.v1+cell": {
     "cellMetadata": {
      "byteLimit": 2048000,
      "rowLimit": 10000
     },
     "inputWidgets": {},
     "nuid": "01a154ff-9996-43e4-8849-032335722555",
     "showTitle": false,
     "title": ""
    }
   },
   "outputs": [],
   "source": [
    "#libs\n",
    "import psycopg2\n",
    "import pandas as pd\n",
    "import os\n",
    "\n",
    "from pyspark.sql import SparkSession\n",
    "from pyspark.sql.functions import col, regexp_replace"
   ]
  },
  {
   "cell_type": "markdown",
   "metadata": {
    "application/vnd.databricks.v1+cell": {
     "cellMetadata": {
      "byteLimit": 2048000,
      "rowLimit": 10000
     },
     "inputWidgets": {},
     "nuid": "9808b804-c0c0-4108-9f89-a5127fded708",
     "showTitle": false,
     "title": ""
    }
   },
   "source": [
    "##### Criando a pasta que ira receber os arquivos parquet"
   ]
  },
  {
   "cell_type": "code",
   "execution_count": null,
   "metadata": {
    "application/vnd.databricks.v1+cell": {
     "cellMetadata": {
      "byteLimit": 2048000,
      "rowLimit": 10000
     },
     "inputWidgets": {},
     "nuid": "eda7823e-06c3-4483-b324-abc5602ef775",
     "showTitle": false,
     "title": ""
    }
   },
   "outputs": [
    {
     "name": "stdout",
     "output_type": "stream",
     "text": [
      "DBFS Created\n"
     ]
    }
   ],
   "source": [
    "create_bdfs = dbutils.fs.mkdirs(\"/dbfs/FileStore/data\")\n",
    "if create_bdfs:\n",
    "    print(\"DBFS Created\")\n",
    "else:\n",
    "    print(\"DBFS creation Failed\")"
   ]
  },
  {
   "cell_type": "markdown",
   "metadata": {
    "application/vnd.databricks.v1+cell": {
     "cellMetadata": {
      "byteLimit": 2048000,
      "rowLimit": 10000
     },
     "inputWidgets": {},
     "nuid": "e1cc848a-6332-42b8-8a2a-4d6e7702209a",
     "showTitle": false,
     "title": ""
    }
   },
   "source": [
    "#### 3 - Extraindo cada tabela do PostgreSQL e salvando como parquet"
   ]
  },
  {
   "cell_type": "code",
   "execution_count": null,
   "metadata": {
    "application/vnd.databricks.v1+cell": {
     "cellMetadata": {
      "byteLimit": 2048000,
      "rowLimit": 10000
     },
     "inputWidgets": {},
     "nuid": "46e23368-2545-483b-bef2-eadb2bf8f147",
     "showTitle": false,
     "title": ""
    }
   },
   "outputs": [
    {
     "name": "stderr",
     "output_type": "stream",
     "text": [
      "/databricks/python/lib/python3.9/site-packages/pandas/io/sql.py:761: UserWarning: pandas only support SQLAlchemy connectable(engine/connection) ordatabase string URI or sqlite3 DBAPI2 connectionother DBAPI2 objects are not tested, please consider using SQLAlchemy\n",
      "  warnings.warn(\n"
     ]
    },
    {
     "name": "stdout",
     "output_type": "stream",
     "text": [
      "/dbfs/FileStore/data/customers.parquet Saved!!!\n"
     ]
    },
    {
     "name": "stderr",
     "output_type": "stream",
     "text": [
      "/databricks/python/lib/python3.9/site-packages/pandas/io/sql.py:761: UserWarning: pandas only support SQLAlchemy connectable(engine/connection) ordatabase string URI or sqlite3 DBAPI2 connectionother DBAPI2 objects are not tested, please consider using SQLAlchemy\n",
      "  warnings.warn(\n"
     ]
    },
    {
     "name": "stdout",
     "output_type": "stream",
     "text": [
      "/dbfs/FileStore/data/employees.parquet Saved!!!\n"
     ]
    },
    {
     "name": "stderr",
     "output_type": "stream",
     "text": [
      "/databricks/python/lib/python3.9/site-packages/pandas/io/sql.py:761: UserWarning: pandas only support SQLAlchemy connectable(engine/connection) ordatabase string URI or sqlite3 DBAPI2 connectionother DBAPI2 objects are not tested, please consider using SQLAlchemy\n",
      "  warnings.warn(\n"
     ]
    },
    {
     "name": "stdout",
     "output_type": "stream",
     "text": [
      "/dbfs/FileStore/data/offices.parquet Saved!!!\n"
     ]
    },
    {
     "name": "stderr",
     "output_type": "stream",
     "text": [
      "/databricks/python/lib/python3.9/site-packages/pandas/io/sql.py:761: UserWarning: pandas only support SQLAlchemy connectable(engine/connection) ordatabase string URI or sqlite3 DBAPI2 connectionother DBAPI2 objects are not tested, please consider using SQLAlchemy\n",
      "  warnings.warn(\n"
     ]
    },
    {
     "name": "stdout",
     "output_type": "stream",
     "text": [
      "/dbfs/FileStore/data/orderdetails.parquet Saved!!!\n"
     ]
    },
    {
     "name": "stderr",
     "output_type": "stream",
     "text": [
      "/databricks/python/lib/python3.9/site-packages/pandas/io/sql.py:761: UserWarning: pandas only support SQLAlchemy connectable(engine/connection) ordatabase string URI or sqlite3 DBAPI2 connectionother DBAPI2 objects are not tested, please consider using SQLAlchemy\n",
      "  warnings.warn(\n"
     ]
    },
    {
     "name": "stdout",
     "output_type": "stream",
     "text": [
      "/dbfs/FileStore/data/orders.parquet Saved!!!\n"
     ]
    },
    {
     "name": "stderr",
     "output_type": "stream",
     "text": [
      "/databricks/python/lib/python3.9/site-packages/pandas/io/sql.py:761: UserWarning: pandas only support SQLAlchemy connectable(engine/connection) ordatabase string URI or sqlite3 DBAPI2 connectionother DBAPI2 objects are not tested, please consider using SQLAlchemy\n",
      "  warnings.warn(\n"
     ]
    },
    {
     "name": "stdout",
     "output_type": "stream",
     "text": [
      "/dbfs/FileStore/data/payments.parquet Saved!!!\n"
     ]
    },
    {
     "name": "stderr",
     "output_type": "stream",
     "text": [
      "/databricks/python/lib/python3.9/site-packages/pandas/io/sql.py:761: UserWarning: pandas only support SQLAlchemy connectable(engine/connection) ordatabase string URI or sqlite3 DBAPI2 connectionother DBAPI2 objects are not tested, please consider using SQLAlchemy\n",
      "  warnings.warn(\n"
     ]
    },
    {
     "name": "stdout",
     "output_type": "stream",
     "text": [
      "/dbfs/FileStore/data/product_lines.parquet Saved!!!\n"
     ]
    },
    {
     "name": "stderr",
     "output_type": "stream",
     "text": [
      "/databricks/python/lib/python3.9/site-packages/pandas/io/sql.py:761: UserWarning: pandas only support SQLAlchemy connectable(engine/connection) ordatabase string URI or sqlite3 DBAPI2 connectionother DBAPI2 objects are not tested, please consider using SQLAlchemy\n",
      "  warnings.warn(\n"
     ]
    },
    {
     "name": "stdout",
     "output_type": "stream",
     "text": [
      "/dbfs/FileStore/data/products.parquet Saved!!!\n"
     ]
    }
   ],
   "source": [
    "class PostgresqlToParquet:\n",
    "    def __init__(self, host:str, database_name:str, username:str, password:str, table_list:list) -> None:\n",
    "        self.db_params = {\n",
    "            \"database\": database_name,\n",
    "            \"user\": username,\n",
    "            \"password\": password,\n",
    "            \"host\": host,\n",
    "        }\n",
    "        self.conn = psycopg2.connect(**self.db_params)\n",
    "        self.table_list = table_list\n",
    "\n",
    "    def sql_to_parquet(self) -> None:\n",
    "        for table_name in self.table_list:\n",
    "            query = f\"SELECT * FROM {table_name}\"\n",
    "            df = pd.read_sql(query, self.conn)\n",
    "            parquet_filename = f\"/dbfs/FileStore/data/{table_name}.parquet\"  # Corrected path using FileStore\n",
    "            df.to_parquet(parquet_filename)\n",
    "            print(f\"{parquet_filename} Saved!!!\")\n",
    "\n",
    "        self.conn.close()\n",
    "\n",
    "database = PostgresqlToParquet(\n",
    "    database_name=\"ecom1692111647951egphgoeocortbeiy\",\n",
    "    username=\"deumjhxhzvgcoaunnugtbenu@psql-mock-database-cloud\",\n",
    "    password=\"tcinixmdjluazpkqptdhnxrh\",\n",
    "    host=\"psql-mock-database-cloud.postgres.database.azure.com\",\n",
    "    table_list=[\n",
    "        \"customers\",\n",
    "        \"employees\",\n",
    "        \"offices\",\n",
    "        \"orderdetails\",\n",
    "        \"orders\",\n",
    "        \"payments\",\n",
    "        \"product_lines\",\n",
    "        \"products\",\n",
    "    ]\n",
    ")\n",
    "database.sql_to_parquet()\n"
   ]
  },
  {
   "cell_type": "markdown",
   "metadata": {
    "application/vnd.databricks.v1+cell": {
     "cellMetadata": {},
     "inputWidgets": {},
     "nuid": "cc851dfc-3da7-4623-8ca5-05b9501327b6",
     "showTitle": false,
     "title": ""
    }
   },
   "source": [
    "##### Observando os arquivos parquet baixados"
   ]
  },
  {
   "cell_type": "code",
   "execution_count": null,
   "metadata": {
    "application/vnd.databricks.v1+cell": {
     "cellMetadata": {
      "byteLimit": 2048000,
      "rowLimit": 10000
     },
     "inputWidgets": {},
     "nuid": "4b165ea8-6a7e-4348-9565-3aa0c83e3f51",
     "showTitle": false,
     "title": ""
    }
   },
   "outputs": [
    {
     "data": {
      "text/html": [
       "<style scoped>\n",
       "  .table-result-container {\n",
       "    max-height: 300px;\n",
       "    overflow: auto;\n",
       "  }\n",
       "  table, th, td {\n",
       "    border: 1px solid black;\n",
       "    border-collapse: collapse;\n",
       "  }\n",
       "  th, td {\n",
       "    padding: 5px;\n",
       "  }\n",
       "  th {\n",
       "    text-align: left;\n",
       "  }\n",
       "</style><div class='table-result-container'><table class='table-result'><thead style='background-color: white'><tr><th>path</th><th>name</th><th>size</th><th>modificationTime</th></tr></thead><tbody><tr><td>dbfs:/FileStore/data/cancelled_orders_result.parquet/</td><td>cancelled_orders_result.parquet/</td><td>0</td><td>1692223411000</td></tr><tr><td>dbfs:/FileStore/data/customers.parquet</td><td>customers.parquet</td><td>21620</td><td>1692236807000</td></tr><tr><td>dbfs:/FileStore/data/employees.parquet</td><td>employees.parquet</td><td>7146</td><td>1692236807000</td></tr><tr><td>dbfs:/FileStore/data/offices.parquet</td><td>offices.parquet</td><td>6944</td><td>1692236807000</td></tr><tr><td>dbfs:/FileStore/data/orderdetails.parquet</td><td>orderdetails.parquet</td><td>27003</td><td>1692236807000</td></tr><tr><td>dbfs:/FileStore/data/orders.parquet</td><td>orders.parquet</td><td>14978</td><td>1692236808000</td></tr><tr><td>dbfs:/FileStore/data/payments.parquet</td><td>payments.parquet</td><td>10366</td><td>1692236808000</td></tr><tr><td>dbfs:/FileStore/data/product_lines.parquet</td><td>product_lines.parquet</td><td>8624</td><td>1692236808000</td></tr><tr><td>dbfs:/FileStore/data/products.parquet</td><td>products.parquet</td><td>21468</td><td>1692236809000</td></tr></tbody></table></div>"
      ]
     },
     "metadata": {
      "application/vnd.databricks.v1+output": {
       "addedWidgets": {},
       "aggData": [],
       "aggError": "",
       "aggOverflow": false,
       "aggSchema": [],
       "aggSeriesLimitReached": false,
       "aggType": "",
       "arguments": {},
       "columnCustomDisplayInfos": {},
       "data": [
        [
         "dbfs:/FileStore/data/cancelled_orders_result.parquet/",
         "cancelled_orders_result.parquet/",
         0,
         1692223411000
        ],
        [
         "dbfs:/FileStore/data/customers.parquet",
         "customers.parquet",
         21620,
         1692236807000
        ],
        [
         "dbfs:/FileStore/data/employees.parquet",
         "employees.parquet",
         7146,
         1692236807000
        ],
        [
         "dbfs:/FileStore/data/offices.parquet",
         "offices.parquet",
         6944,
         1692236807000
        ],
        [
         "dbfs:/FileStore/data/orderdetails.parquet",
         "orderdetails.parquet",
         27003,
         1692236807000
        ],
        [
         "dbfs:/FileStore/data/orders.parquet",
         "orders.parquet",
         14978,
         1692236808000
        ],
        [
         "dbfs:/FileStore/data/payments.parquet",
         "payments.parquet",
         10366,
         1692236808000
        ],
        [
         "dbfs:/FileStore/data/product_lines.parquet",
         "product_lines.parquet",
         8624,
         1692236808000
        ],
        [
         "dbfs:/FileStore/data/products.parquet",
         "products.parquet",
         21468,
         1692236809000
        ]
       ],
       "datasetInfos": [],
       "dbfsResultPath": null,
       "isJsonSchema": true,
       "metadata": {},
       "overflow": false,
       "plotOptions": {
        "customPlotOptions": {},
        "displayType": "table",
        "pivotAggregation": null,
        "pivotColumns": null,
        "xColumns": null,
        "yColumns": null
       },
       "removedWidgets": [],
       "schema": [
        {
         "metadata": "{}",
         "name": "path",
         "type": "\"string\""
        },
        {
         "metadata": "{}",
         "name": "name",
         "type": "\"string\""
        },
        {
         "metadata": "{}",
         "name": "size",
         "type": "\"long\""
        },
        {
         "metadata": "{}",
         "name": "modificationTime",
         "type": "\"long\""
        }
       ],
       "type": "table"
      }
     },
     "output_type": "display_data"
    }
   ],
   "source": [
    "display(dbutils.fs.ls(\"dbfs:/FileStore/data\"))\n"
   ]
  },
  {
   "cell_type": "markdown",
   "metadata": {
    "application/vnd.databricks.v1+cell": {
     "cellMetadata": {
      "byteLimit": 2048000,
      "rowLimit": 10000
     },
     "inputWidgets": {},
     "nuid": "1f5832be-c54e-4fdc-9d9b-3bc667a9dab5",
     "showTitle": false,
     "title": ""
    }
   },
   "source": [
    "#### 5 - Lendo os arquivos parque para a analise"
   ]
  },
  {
   "cell_type": "code",
   "execution_count": null,
   "metadata": {
    "application/vnd.databricks.v1+cell": {
     "cellMetadata": {
      "byteLimit": 2048000,
      "rowLimit": 10000
     },
     "inputWidgets": {},
     "nuid": "8712bb5a-a695-4d9f-89a0-8e17aee78e8d",
     "showTitle": false,
     "title": ""
    }
   },
   "outputs": [],
   "source": [
    "# Spark Session\n",
    "spark = SparkSession.builder.appName(\"Question5\").getOrCreate()\n",
    "\n",
    "# Parquet para Dataframes\n",
    "customers_df = spark.read.parquet(\"dbfs:/FileStore/data/customers.parquet\")\n",
    "orders_df = spark.read.parquet(\"dbfs:/FileStore/data/orders.parquet\")\n",
    "orderdetails_df = spark.read.parquet(\"dbfs:/FileStore/data/orderdetails.parquet\")\n",
    "products_df = spark.read.parquet(\"dbfs:/FileStore/data/products.parquet\")\n",
    "payments_df = spark.read.parquet(\"dbfs:/FileStore/data/payments.parquet\")\n",
    "employees_df = spark.read.parquet(\"dbfs:/FileStore/data/employees.parquet\")\n",
    "offices_df = spark.read.parquet(\"dbfs:/FileStore/data/offices.parquet\")"
   ]
  },
  {
   "cell_type": "markdown",
   "metadata": {
    "application/vnd.databricks.v1+cell": {
     "cellMetadata": {},
     "inputWidgets": {},
     "nuid": "bd53d9c9-fd5c-491e-adfa-735bca55a25f",
     "showTitle": false,
     "title": ""
    }
   },
   "source": [
    "##### 5.1 - Qual país possui a maior quantidade de itens cancelados?"
   ]
  },
  {
   "cell_type": "code",
   "execution_count": null,
   "metadata": {
    "application/vnd.databricks.v1+cell": {
     "cellMetadata": {
      "byteLimit": 2048000,
      "rowLimit": 10000
     },
     "inputWidgets": {},
     "nuid": "f2aa0bc4-3c65-4493-b79f-cc80c9e74f41",
     "showTitle": false,
     "title": ""
    }
   },
   "outputs": [
    {
     "name": "stdout",
     "output_type": "stream",
     "text": [
      "+-----------+-----+\n",
      "|    country|count|\n",
      "+-----------+-----+\n",
      "|New Zealand|    2|\n",
      "|     Sweden|    1|\n",
      "|      Spain|    1|\n",
      "|        USA|    1|\n",
      "|         UK|    1|\n",
      "+-----------+-----+\n",
      "\n"
     ]
    }
   ],
   "source": [
    "# Analise\n",
    "cancelled_orders_df = customers_df.join(orders_df, \"customer_number\") \\\n",
    "    .filter(col(\"status\") == \"Cancelled\") \\\n",
    "    .groupBy(\"country\") \\\n",
    "    .count() \\\n",
    "    .orderBy(col(\"count\").desc())\n",
    "\n",
    "cancelled_orders_df.show(5)\n"
   ]
  },
  {
   "cell_type": "markdown",
   "metadata": {
    "application/vnd.databricks.v1+cell": {
     "cellMetadata": {},
     "inputWidgets": {},
     "nuid": "5533d5db-7f36-4ff6-9fca-3868608000d9",
     "showTitle": false,
     "title": ""
    }
   },
   "source": [
    "##### 5.2 - Qual o faturamento da linha de produto mais vendido, considere como os itens Shipped, cujo o pedido foi realizado no ano de 2005?"
   ]
  },
  {
   "cell_type": "code",
   "execution_count": null,
   "metadata": {
    "application/vnd.databricks.v1+cell": {
     "cellMetadata": {
      "byteLimit": 2048000,
      "rowLimit": 10000
     },
     "inputWidgets": {},
     "nuid": "652f2271-312c-4958-92f8-9523479c468a",
     "showTitle": false,
     "title": ""
    }
   },
   "outputs": [
    {
     "name": "stdout",
     "output_type": "stream",
     "text": [
      "+--------------------+------------------+--------------+\n",
      "|        product_name|           billing|sales_quantity|\n",
      "+--------------------+------------------+--------------+\n",
      "|1992 Ferrari 360 ...| 2686883.799999999|            59|\n",
      "|1958 Chevy Corvet...| 2848354.859999999|            51|\n",
      "|1954 Greyhound Sc...| 2848354.859999999|            51|\n",
      "|  1970 Dodge Coronet| 2848354.859999999|            51|\n",
      "|1992 Porsche Caye...|2731405.1799999992|            48|\n",
      "+--------------------+------------------+--------------+\n",
      "only showing top 5 rows\n",
      "\n"
     ]
    }
   ],
   "source": [
    "# Usando os filtros necessarios na tabela orders\n",
    "shipped_2005_df = orders_df.filter((col(\"status\") == \"Shipped\") & (col(\"order_date\").between(\"2005-01-01\", \"2006-01-01\")))\n",
    "\n",
    "# Analise\n",
    "product_sales_df = shipped_2005_df.join(orderdetails_df, \"order_number\") \\\n",
    "    .join(products_df, \"product_code\") \\\n",
    "    .join(payments_df, \"customer_number\") \\\n",
    "    .groupBy(\"product_name\") \\\n",
    "    .agg({\"amount\": \"sum\", \"order_number\": \"count\"}) \\\n",
    "    .withColumnRenamed(\"count(order_number)\", \"sales_quantity\") \\\n",
    "    .withColumnRenamed(\"sum(amount)\", \"billing\") \\\n",
    "    .orderBy(col(\"sales_quantity\").desc())\n",
    "\n",
    "product_sales_df.show(5)"
   ]
  },
  {
   "cell_type": "markdown",
   "metadata": {
    "application/vnd.databricks.v1+cell": {
     "cellMetadata": {},
     "inputWidgets": {},
     "nuid": "c6bb2229-cc5d-49e9-8b99-1e92d0894d7f",
     "showTitle": false,
     "title": ""
    }
   },
   "source": [
    "##### 5.3 - Nome, sobrenome e e-mail dos vendedores do Japão, o local-part do e-mail deve estar mascarado."
   ]
  },
  {
   "cell_type": "code",
   "execution_count": null,
   "metadata": {
    "application/vnd.databricks.v1+cell": {
     "cellMetadata": {
      "byteLimit": 2048000,
      "rowLimit": 10000
     },
     "inputWidgets": {},
     "nuid": "7651f402-bbc3-4344-a336-c7f641abf4bc",
     "showTitle": false,
     "title": ""
    }
   },
   "outputs": [
    {
     "name": "stdout",
     "output_type": "stream",
     "text": [
      "+----------+---------+--------------------+-------+\n",
      "|first_name|last_name|        masked_email|country|\n",
      "+----------+---------+--------------------+-------+\n",
      "|      Mami|    Nishi|*****@classicmode...|  Japan|\n",
      "|   Yoshimi|     Kato|*****@classicmode...|  Japan|\n",
      "+----------+---------+--------------------+-------+\n",
      "\n"
     ]
    }
   ],
   "source": [
    "# Analise\n",
    "japan_sellers = employees_df.join(offices_df, employees_df.office_code == offices_df.office_code, \"left\") \\\n",
    "    .filter(offices_df.country == \"Japan\") \\\n",
    "    .select(\n",
    "        employees_df.first_name,\n",
    "        employees_df.last_name,\n",
    "        regexp_replace(employees_df.email, \".*@\", \"*****@\").alias(\"masked_email\"),  # Extract username part of email\n",
    "        offices_df.country\n",
    "    )\n",
    "\n",
    "japan_sellers.show()\n"
   ]
  },
  {
   "cell_type": "markdown",
   "metadata": {
    "application/vnd.databricks.v1+cell": {
     "cellMetadata": {},
     "inputWidgets": {},
     "nuid": "3a683549-da8f-4668-9244-7cbfacc5c816",
     "showTitle": false,
     "title": ""
    }
   },
   "source": [
    "#### 6 - Salvando os resultados em tabelas com o formato delta."
   ]
  },
  {
   "cell_type": "code",
   "execution_count": null,
   "metadata": {
    "application/vnd.databricks.v1+cell": {
     "cellMetadata": {
      "byteLimit": 2048000,
      "rowLimit": 10000
     },
     "inputWidgets": {},
     "nuid": "8fee09fd-2600-4502-b283-2936f27c3c71",
     "showTitle": false,
     "title": ""
    }
   },
   "outputs": [],
   "source": [
    "cancelled_orders_df.write.format(\"delta\").mode(\"overwrite\").save(\"/dbfs/FileStore/table/cancelled_orders_result.delta\")\n",
    "product_sales_df.write.format(\"delta\").mode(\"overwrite\").save(\"/dbfs/FileStore/table/product_sales_result.delta\")\n",
    "japan_sellers.write.format(\"delta\").mode(\"overwrite\").save(\"/dbfs/FileStore/table/japan_sellers.delta\")"
   ]
  },
  {
   "cell_type": "markdown",
   "metadata": {},
   "source": [
    "##### Observando as tabelas salvas"
   ]
  },
  {
   "cell_type": "code",
   "execution_count": null,
   "metadata": {
    "application/vnd.databricks.v1+cell": {
     "cellMetadata": {
      "byteLimit": 2048000,
      "rowLimit": 10000
     },
     "inputWidgets": {},
     "nuid": "56e82ca1-d46e-40b5-a021-0b9fcdf4be9a",
     "showTitle": false,
     "title": ""
    }
   },
   "outputs": [
    {
     "data": {
      "text/html": [
       "<style scoped>\n",
       "  .table-result-container {\n",
       "    max-height: 300px;\n",
       "    overflow: auto;\n",
       "  }\n",
       "  table, th, td {\n",
       "    border: 1px solid black;\n",
       "    border-collapse: collapse;\n",
       "  }\n",
       "  th, td {\n",
       "    padding: 5px;\n",
       "  }\n",
       "  th {\n",
       "    text-align: left;\n",
       "  }\n",
       "</style><div class='table-result-container'><table class='table-result'><thead style='background-color: white'><tr><th>path</th><th>name</th><th>size</th><th>modificationTime</th></tr></thead><tbody><tr><td>dbfs:/dbfs/FileStore/table/cancelled_orders_result/</td><td>cancelled_orders_result/</td><td>0</td><td>1692238528000</td></tr><tr><td>dbfs:/dbfs/FileStore/table/cancelled_orders_result.delta/</td><td>cancelled_orders_result.delta/</td><td>0</td><td>1692238673000</td></tr><tr><td>dbfs:/dbfs/FileStore/table/japan_sellers/</td><td>japan_sellers/</td><td>0</td><td>1692238539000</td></tr><tr><td>dbfs:/dbfs/FileStore/table/japan_sellers.delta/</td><td>japan_sellers.delta/</td><td>0</td><td>1692238679000</td></tr><tr><td>dbfs:/dbfs/FileStore/table/product_sales_result/</td><td>product_sales_result/</td><td>0</td><td>1692238535000</td></tr><tr><td>dbfs:/dbfs/FileStore/table/product_sales_result.delta/</td><td>product_sales_result.delta/</td><td>0</td><td>1692238676000</td></tr></tbody></table></div>"
      ]
     },
     "metadata": {
      "application/vnd.databricks.v1+output": {
       "addedWidgets": {},
       "aggData": [],
       "aggError": "",
       "aggOverflow": false,
       "aggSchema": [],
       "aggSeriesLimitReached": false,
       "aggType": "",
       "arguments": {},
       "columnCustomDisplayInfos": {},
       "data": [
        [
         "dbfs:/dbfs/FileStore/table/cancelled_orders_result/",
         "cancelled_orders_result/",
         0,
         1692238528000
        ],
        [
         "dbfs:/dbfs/FileStore/table/cancelled_orders_result.delta/",
         "cancelled_orders_result.delta/",
         0,
         1692238673000
        ],
        [
         "dbfs:/dbfs/FileStore/table/japan_sellers/",
         "japan_sellers/",
         0,
         1692238539000
        ],
        [
         "dbfs:/dbfs/FileStore/table/japan_sellers.delta/",
         "japan_sellers.delta/",
         0,
         1692238679000
        ],
        [
         "dbfs:/dbfs/FileStore/table/product_sales_result/",
         "product_sales_result/",
         0,
         1692238535000
        ],
        [
         "dbfs:/dbfs/FileStore/table/product_sales_result.delta/",
         "product_sales_result.delta/",
         0,
         1692238676000
        ]
       ],
       "datasetInfos": [],
       "dbfsResultPath": null,
       "isJsonSchema": true,
       "metadata": {},
       "overflow": false,
       "plotOptions": {
        "customPlotOptions": {},
        "displayType": "table",
        "pivotAggregation": null,
        "pivotColumns": null,
        "xColumns": null,
        "yColumns": null
       },
       "removedWidgets": [],
       "schema": [
        {
         "metadata": "{}",
         "name": "path",
         "type": "\"string\""
        },
        {
         "metadata": "{}",
         "name": "name",
         "type": "\"string\""
        },
        {
         "metadata": "{}",
         "name": "size",
         "type": "\"long\""
        },
        {
         "metadata": "{}",
         "name": "modificationTime",
         "type": "\"long\""
        }
       ],
       "type": "table"
      }
     },
     "output_type": "display_data"
    }
   ],
   "source": [
    "display(dbutils.fs.ls(\"/dbfs/FileStore/table\"))"
   ]
  },
  {
   "cell_type": "markdown",
   "metadata": {},
   "source": [
    "##### Conferindo se os dados estao corretos"
   ]
  },
  {
   "cell_type": "code",
   "execution_count": null,
   "metadata": {
    "application/vnd.databricks.v1+cell": {
     "cellMetadata": {
      "byteLimit": 2048000,
      "rowLimit": 10000
     },
     "inputWidgets": {},
     "nuid": "8ea2e3ea-3faa-439c-9711-793bbc319175",
     "showTitle": false,
     "title": ""
    }
   },
   "outputs": [
    {
     "name": "stdout",
     "output_type": "stream",
     "text": [
      "+-----------+-----+\n",
      "|    country|count|\n",
      "+-----------+-----+\n",
      "|New Zealand|    2|\n",
      "|     Sweden|    1|\n",
      "|      Spain|    1|\n",
      "|        USA|    1|\n",
      "|         UK|    1|\n",
      "+-----------+-----+\n",
      "\n",
      "+--------------------+------------------+--------------+\n",
      "|        product_name|           billing|sales_quantity|\n",
      "+--------------------+------------------+--------------+\n",
      "|1992 Ferrari 360 ...| 2686883.799999999|            59|\n",
      "|1958 Chevy Corvet...| 2848354.859999999|            51|\n",
      "|1954 Greyhound Sc...| 2848354.859999999|            51|\n",
      "|  1970 Dodge Coronet| 2848354.859999999|            51|\n",
      "|1992 Porsche Caye...|2731405.1799999992|            48|\n",
      "|Diamond T620 Semi...|        2200275.07|            41|\n",
      "|     1982 Camaro Z28|2107715.2100000004|            38|\n",
      "|1950's Chicago Su...|        2111090.83|            38|\n",
      "|1998 Chrysler Ply...|        2155687.22|            38|\n",
      "|   1957 Chevy Pickup|        2155687.22|            38|\n",
      "|1962 Volkswagen M...|        2155687.22|            38|\n",
      "|1964 Mercedes Tou...|        1840083.94|            37|\n",
      "|1996 Peterbilt 37...|        1660561.19|            33|\n",
      "|1939 Cadillac Lim...|        1660561.19|            33|\n",
      "|1970 Triumph Spit...|1632451.3200000003|            33|\n",
      "|1971 Alpine Renau...|1643506.0400000007|            32|\n",
      "|1957 Corvette Con...|1625150.9800000007|            31|\n",
      "|1961 Chevrolet Im...|1625150.9800000007|            31|\n",
      "|1956 Porsche 356A...|1564743.2800000005|            31|\n",
      "|1969 Dodge Super Bee|1625150.9800000007|            31|\n",
      "+--------------------+------------------+--------------+\n",
      "only showing top 20 rows\n",
      "\n",
      "+----------+---------+--------------------+-------+\n",
      "|first_name|last_name|        masked_email|country|\n",
      "+----------+---------+--------------------+-------+\n",
      "|      Mami|    Nishi|*****@classicmode...|  Japan|\n",
      "|   Yoshimi|     Kato|*****@classicmode...|  Japan|\n",
      "+----------+---------+--------------------+-------+\n",
      "\n"
     ]
    }
   ],
   "source": [
    "# Lendo as tabelas\n",
    "cancelled_orders_df = spark.read.format(\"delta\").load(\"/dbfs/FileStore/table/cancelled_orders_result.delta\")\n",
    "product_sales_df = spark.read.format(\"delta\").load(\"/dbfs/FileStore/table/product_sales_result.delta\")\n",
    "japan_sellers_df = spark.read.format(\"delta\").load(\"/dbfs/FileStore/table/japan_sellers.delta\")\n",
    "\n",
    "cancelled_orders_df.show(5)\n",
    "product_sales_df.show(5)\n",
    "japan_sellers_df.show(5)\n",
    "\n",
    "spark.stop()"
   ]
  }
 ],
 "metadata": {
  "application/vnd.databricks.v1+notebook": {
   "dashboards": [],
   "language": "python",
   "notebookMetadata": {
    "mostRecentlyExecutedCommandWithImplicitDF": {
     "commandId": -1,
     "dataframes": [
      "_sqldf"
     ]
    },
    "pythonIndentUnit": 4
   },
   "notebookName": "main",
   "widgets": {}
  },
  "language_info": {
   "name": "python"
  }
 },
 "nbformat": 4,
 "nbformat_minor": 0
}
