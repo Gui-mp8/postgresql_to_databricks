{
 "cells": [
  {
   "cell_type": "code",
   "execution_count": null,
   "metadata": {},
   "outputs": [],
   "source": [
    "## Question 3"
   ]
  },
  {
   "cell_type": "code",
   "execution_count": null,
   "metadata": {},
   "outputs": [],
   "source": [
    "import psycopg2\n",
    "import pandas as pd\n",
    "import os\n",
    "\n",
    "class PostgresqlToParquet:\n",
    "    def __init__(self, host:str, database_name:str, username:str, password:str, table_list:list) -> None:\n",
    "        self.db_params = {\n",
    "            \"database\": database_name,\n",
    "            \"user\": username,\n",
    "            \"password\": password,\n",
    "            \"host\": host,\n",
    "        }\n",
    "        self.conn = psycopg2.connect(**self.db_params)\n",
    "        self.table_list = table_list\n",
    "\n",
    "    def sql_to_parquet(self) -> None:\n",
    "        for table_name in self.table_list:\n",
    "            query = f\"SELECT * FROM {table_name}\"\n",
    "            df = pd.read_sql(query, self.conn)\n",
    "            print(df)\n",
    "            parquet_filename = f\"/dbfs/FileStore/data/{table_name}.parquet\"  # Corrected path using FileStore\n",
    "            df.to_parquet(parquet_filename)\n",
    "\n",
    "        self.conn.close()\n",
    "\n",
    "# Create the '/dbfs/FileStore/data' directory if it doesn't exist\n",
    "dbutils.fs.mkdirs(\"/dbfs/FileStore/data\")\n",
    "\n",
    "database = PostgresqlToParquet(\n",
    "    database_name=\"ecom1692111647951egphgoeocortbeiy\",\n",
    "    username=\"deumjhxhzvgcoaunnugtbenu@psql-mock-database-cloud\",\n",
    "    password=\"tcinixmdjluazpkqptdhnxrh\",\n",
    "    host=\"psql-mock-database-cloud.postgres.database.azure.com\",\n",
    "    table_list=[\n",
    "        \"customers\",\n",
    "        \"employees\",\n",
    "        \"offices\",\n",
    "        \"orderdetails\",\n",
    "        \"orders\",\n",
    "        \"payments\",\n",
    "        \"product_lines\",\n",
    "        \"products\",\n",
    "    ]\n",
    ")\n",
    "database.sql_to_parquet()\n"
   ]
  }
 ],
 "metadata": {
  "language_info": {
   "name": "python"
  },
  "orig_nbformat": 4
 },
 "nbformat": 4,
 "nbformat_minor": 2
}
